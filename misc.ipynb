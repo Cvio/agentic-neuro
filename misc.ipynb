{
 "cells": [
  {
   "cell_type": "code",
   "execution_count": null,
   "metadata": {},
   "outputs": [],
   "source": [
    "import os\n",
    "\n",
    "# Look for all possible API key environment variables\n",
    "api_related_vars = [key for key in os.environ if \n",
    "                   \"API\" in key or \n",
    "                   \"KEY\" in key or \n",
    "                   \"TOKEN\" in key or\n",
    "                   \"OPENAI\" in key or \n",
    "                   \"ANTHROPIC\" in key or\n",
    "                   \"LITELLM\" in key]\n",
    "\n",
    "for key in api_related_vars:\n",
    "    value = os.environ[key]\n",
    "    # Mask the value for security\n",
    "    if len(value) > 10:\n",
    "        masked_value = value[:4] + \"*\" * (len(value) - 8) + value[-4:]\n",
    "    else:\n",
    "        masked_value = \"****\"\n",
    "    print(f\"{key}: {masked_value}\")\n",
    "\n",
    "# Check for OpenAI API key in environment\n",
    "print(\"ANTHROPIC_API_KEY in env:\", \"ANTHROPIC_API_KEY\" in os.environ)\n",
    "print(\"OPENAI_API_KEY in env:\", \"OPENAI_API_KEY\" in os.environ)\n"
   ]
  },
  {
   "cell_type": "code",
   "execution_count": null,
   "metadata": {},
   "outputs": [],
   "source": [
    "import os\n",
    "import json\n",
    "from dotenv import load_dotenv\n",
    "import anthropic\n",
    "from crewai import Agent, Task, Crew\n",
    "from langchain.tools import Tool\n",
    "import matplotlib.pyplot as plt\n",
    "\n",
    "# Load environment variables from .env file\n",
    "load_dotenv()\n",
    "\n",
    "# Access API key\n",
    "ANTHROPIC_API_KEY = os.getenv(\"ANTHROPIC_API_KEY\")\n",
    "OPENAI_API_KEY = os.getenv(\"OPENAI_API_KEY\")\n",
    "\n",
    "if not ANTHROPIC_API_KEY:\n",
    "    print(\"No Anthropic key found...\")\n",
    "else:\n",
    "    print(ANTHROPIC_API_KEY[:4],\"*********************\")\n",
    "    # Initialize Anthropic client\n",
    "    client = anthropic.Anthropic(api_key=ANTHROPIC_API_KEY)\n",
    "\n",
    "if not OPENAI_API_KEY:\n",
    "    print(\"No OpenAI key found...\")\n",
    "else:\n",
    "    print(OPENAI_API_KEY[:4],\"*********************\")\n",
    "\n",
    "\n",
    "# Set environment variable for crewai\n",
    "os.environ[\"ANTHROPIC_API_KEY\"] = ANTHROPIC_API_KEY\n",
    "os.environ[\"OPENAI_API_KEY\"] = OPENAI_API_KEY\n",
    "\n",
    "# del os.environ[\"ANTHROPIC_API_KEY\"]\n",
    "# del os.environ[\"OPENAI_API_KEY\"]\n",
    "\n"
   ]
  },
  {
   "cell_type": "code",
   "execution_count": null,
   "metadata": {},
   "outputs": [],
   "source": [
    "print(type(result))  # Confirm the type again\n",
    "print(dir(result))  # List available attributes and methods\n",
    "print(result.json_dict)  # Show the JSON structure (if available)\n",
    "\n",
    "print(\"Tasks Output Structure:\\n\", result.tasks_output)"
   ]
  }
 ],
 "metadata": {
  "kernelspec": {
   "display_name": "agentenv",
   "language": "python",
   "name": "python3"
  },
  "language_info": {
   "name": "python",
   "version": "3.12.4"
  }
 },
 "nbformat": 4,
 "nbformat_minor": 2
}
